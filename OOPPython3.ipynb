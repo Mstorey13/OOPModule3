{
 "cells": [
  {
   "cell_type": "code",
   "execution_count": 21,
   "id": "ff2d0f4d",
   "metadata": {},
   "outputs": [],
   "source": [
    "class RentalPropertyCalculation():\n",
    "    \n",
    "    def __init__(self):\n",
    "        self.rentalIncome = 0\n",
    "        self.laundryIncome = 0\n",
    "        self.storageIncome = 0\n",
    "        self.miscIncome = 0\n",
    "        \n",
    "        def Income(self):\n",
    "            self.rentalIncome = input(\"Please enter your monthly rental income: \")\n",
    "            self.laundryIncome = input(\"Please enter your monthly income for laundry: \")\n",
    "            self.storageIncome = input(\"Please enter your monthly income for storage: \")\n",
    "            self.miscIncome = input(\"Please enter your monthly income for anything else not listed: \")\n",
    "            \n",
    "        if self.rentalIncome >= 0:\n",
    "            print(f\"Your monthly rental income is {self.rentalIncome}\")\n",
    "        else:\n",
    "            print(\"Please enter a valid amount\")\n",
    "        \n",
    "        if self.laundryIncome >= 0:\n",
    "            print(f\"Your monthly income for laundry is {self.laundryIncome}\")\n",
    "        else:\n",
    "            print(\"Please enter a valid amount\")\n",
    "        \n",
    "        if self.storageIncome >= 0:\n",
    "            print(f\"Your monthly income for storage is {self.storageIncome}\")\n",
    "        else:\n",
    "            print(\"Please enter a valid amount\")\n",
    "            \n",
    "        if self.miscIncome >= 0:\n",
    "            print(f\"Your monthly income for anything misc is {self.miscIncome}\")\n",
    "        else:\n",
    "            print(\"Please enter a valid amount\")\n",
    "\n",
    "        print(f\"Your total cost for monthly income is: \")\n"
   ]
  },
  {
   "cell_type": "code",
   "execution_count": null,
   "id": "f4b4c38c",
   "metadata": {},
   "outputs": [],
   "source": []
  }
 ],
 "metadata": {
  "kernelspec": {
   "display_name": "Python 3 (ipykernel)",
   "language": "python",
   "name": "python3"
  },
  "language_info": {
   "codemirror_mode": {
    "name": "ipython",
    "version": 3
   },
   "file_extension": ".py",
   "mimetype": "text/x-python",
   "name": "python",
   "nbconvert_exporter": "python",
   "pygments_lexer": "ipython3",
   "version": "3.9.13"
  }
 },
 "nbformat": 4,
 "nbformat_minor": 5
}
